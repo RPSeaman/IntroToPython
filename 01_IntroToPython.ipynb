{
 "cells": [
  {
   "cell_type": "markdown",
   "id": "f67f2d54-fa74-4eca-a434-8d168844f80f",
   "metadata": {},
   "source": [
    "# Intro to Python: Part 1\n",
    "> #### June 6, 2023\n",
    "> #### Author: Ryan Seaman"
   ]
  },
  {
   "cell_type": "markdown",
   "id": "24d59a53-3463-47a9-8b63-b58508f2cf41",
   "metadata": {},
   "source": [
    "\n",
    "Welcome to another Bioinformatics workshop! In this workshop, we will look at translating much of what you have learned in your R workshops into a Python Environment. "
   ]
  },
  {
   "cell_type": "markdown",
   "id": "5ff860a2-6112-4c60-aa43-4b54e5d3daff",
   "metadata": {},
   "source": [
    "### 1. What is Python?"
   ]
  },
  {
   "cell_type": "markdown",
   "id": "1282dda2-d269-43e8-ae36-0c1808a69981",
   "metadata": {},
   "source": [
    "> Python is a programming language. It is a specific language that allows us as users to communicate with the computer and give it instructions to follow. Python is a very powerful programming language with a diverse set of applications. Today, we are going to focus on the basics of how Python works and how we can use Python to visualize our data."
   ]
  },
  {
   "cell_type": "markdown",
   "id": "3d6bc6fd-3e67-4fdf-bd77-7a5b6f53c78c",
   "metadata": {},
   "source": [
    "### 2. Functions and Parameters"
   ]
  },
  {
   "cell_type": "markdown",
   "id": "deed773f-3798-4fb6-a970-472a9ceb05d1",
   "metadata": {},
   "source": [
    "> The following code block is a function and takes in a parameter:"
   ]
  },
  {
   "cell_type": "code",
   "execution_count": 1,
   "id": "c349616c-b51b-4713-9c9e-82f1573b5608",
   "metadata": {},
   "outputs": [],
   "source": [
    "def celsius2fahrenheit(c):\n",
    "    f = (c * 9/5) + 32\n",
    "    print(c, \"°C is \", f, \"°F\")"
   ]
  },
  {
   "cell_type": "markdown",
   "id": "9ce80aee-3e11-402a-8344-9824516cce2e",
   "metadata": {},
   "source": [
    "**Function**\n",
    "> A function is a tool that does a specific job.\n",
    "> \n",
    "> In the case of the `celsius2fahrenheit` function, its specific job is to convert a Celsius temperature to a Fahrenheit temperature.\n",
    "\n",
    "**Parameter**\n",
    "> A parameter specifies the specifics for one instance of the tool.\n",
    "> \n",
    "> The `celsius2fahrenheit` function is capable of converting any Celsius temperature to Fahrenheit, and so the `c` within the function leave room to specify what specific temperature we actually want to convert."
   ]
  },
  {
   "cell_type": "markdown",
   "id": "214b4a26-0444-4881-9bb4-069bf69e2c57",
   "metadata": {},
   "source": [
    "### 3. Using a Function"
   ]
  },
  {
   "cell_type": "markdown",
   "id": "e5606ada-3eb5-4c64-aeb5-8c9e8f43fa3d",
   "metadata": {},
   "source": [
    "> Try the following code block:"
   ]
  },
  {
   "cell_type": "code",
   "execution_count": 2,
   "id": "f8c28c34-5505-4eab-bafd-ced9e8a1f7f9",
   "metadata": {},
   "outputs": [
    {
     "ename": "TypeError",
     "evalue": "celsius2fahrenheit() missing 1 required positional argument: 'c'",
     "output_type": "error",
     "traceback": [
      "\u001b[0;31m---------------------------------------------------------------------------\u001b[0m",
      "\u001b[0;31mTypeError\u001b[0m                                 Traceback (most recent call last)",
      "Cell \u001b[0;32mIn[2], line 1\u001b[0m\n\u001b[0;32m----> 1\u001b[0m \u001b[43mcelsius2fahrenheit\u001b[49m\u001b[43m(\u001b[49m\u001b[43m)\u001b[49m\n",
      "\u001b[0;31mTypeError\u001b[0m: celsius2fahrenheit() missing 1 required positional argument: 'c'"
     ]
    }
   ],
   "source": [
    "celsius2fahrenheit()"
   ]
  },
  {
   "cell_type": "markdown",
   "id": "7ca7a2bf-5f57-4cb3-8951-d4e35f6a96d4",
   "metadata": {},
   "source": [
    "> Notice the error... we forgot to specify the parameters for this instance of the function. Let's try specifying the temperature to 24 °C."
   ]
  },
  {
   "cell_type": "code",
   "execution_count": 3,
   "id": "e87f19a4-0d2d-4d23-8181-adbbc4ea1413",
   "metadata": {},
   "outputs": [
    {
     "name": "stdout",
     "output_type": "stream",
     "text": [
      "24 °C is  75.2 °F\n"
     ]
    }
   ],
   "source": [
    "celsius2fahrenheit(24)"
   ]
  },
  {
   "cell_type": "markdown",
   "id": "3a3dbca0-d356-45cc-9014-31a5f2e653ad",
   "metadata": {},
   "source": [
    "> Now give it a shot yourself. Choose your own temperature to convert."
   ]
  },
  {
   "cell_type": "code",
   "execution_count": null,
   "id": "91a256e2-61d4-404a-a03a-0741d74837b1",
   "metadata": {},
   "outputs": [],
   "source": [
    "# Try it here\n"
   ]
  },
  {
   "cell_type": "markdown",
   "id": "80725a72-138b-477f-ba10-fd70ebb80e23",
   "metadata": {},
   "source": [
    "### 4. Import/Use a Package"
   ]
  },
  {
   "cell_type": "markdown",
   "id": "5b64e0db-aba5-4e4c-a95c-13f035f7402b",
   "metadata": {},
   "source": [
    "**What is a package?**\n",
    "> A package is simply a group of functions, usually under a common topic.\n",
    ">\n",
    "> For demonstration I have made a simple package called `calculator`. To be able to use the functions within calculator we have to run the following command:"
   ]
  },
  {
   "cell_type": "code",
   "execution_count": 1,
   "id": "da910741-2465-4a70-b9f2-d2be6a1ea654",
   "metadata": {},
   "outputs": [],
   "source": [
    "import calculator as calc"
   ]
  },
  {
   "cell_type": "markdown",
   "id": "bffd0eeb-728c-45b2-99ad-190f5f750ddc",
   "metadata": {},
   "source": [
    "> This imports in the package and gives it the 'nickname' calc. This is important because anytime we want to use one of the calculator functions, we need to lead with `nickname.`\n",
    "> \n",
    ">> It should look like this\n",
    ">> `nickname.function(parameter1,parameter2,...)`\n"
   ]
  },
  {
   "cell_type": "markdown",
   "id": "d4673396-c1c4-45ee-a4e8-6e1561bbe1f6",
   "metadata": {},
   "source": [
    "**Let's take a look at our calculator package that we nicknamed calc.**\n",
    "> The help function takes no parameters and just gives some initial information about the calculator package. "
   ]
  },
  {
   "cell_type": "code",
   "execution_count": 2,
   "id": "6e372dee-693c-4db4-a436-26cebdc94d2c",
   "metadata": {},
   "outputs": [
    {
     "name": "stdout",
     "output_type": "stream",
     "text": [
      "This is a simple Calculator Program.\n",
      "There are 5 functions:\n",
      "\t-add\n",
      "\t-subract\n",
      "\t-multiply\n",
      "\t-divide\n",
      "\t-exponent\n",
      "\n",
      "All functions take two parameters (both numbers).\n",
      "\tFor examples:\n",
      "\t\tcalc.example('functionname')\n"
     ]
    }
   ],
   "source": [
    "calc.help()"
   ]
  },
  {
   "cell_type": "markdown",
   "id": "5c10009c-17be-4d98-a66f-b893af9c166b",
   "metadata": {},
   "source": [
    "> Take a look at an example by running the following code. Remember to add in which function you want an example of and don't forget to put it in quotes"
   ]
  },
  {
   "cell_type": "code",
   "execution_count": 8,
   "id": "4839a681-4275-4a61-8632-258fc36c39ad",
   "metadata": {},
   "outputs": [],
   "source": [
    "# Get an example here\n"
   ]
  },
  {
   "cell_type": "markdown",
   "id": "829de19a-dcfc-43ed-9fb1-ad6eaf3bdbf4",
   "metadata": {},
   "source": [
    "> Now try running your own calculation using that function. "
   ]
  },
  {
   "cell_type": "code",
   "execution_count": 7,
   "id": "a9a44727-637a-4071-b1cd-783314b46d28",
   "metadata": {},
   "outputs": [
    {
     "data": {
      "text/plain": [
       "625"
      ]
     },
     "execution_count": 7,
     "metadata": {},
     "output_type": "execute_result"
    }
   ],
   "source": [
    "calc.exponent(5,4)"
   ]
  }
 ],
 "metadata": {
  "kernelspec": {
   "display_name": "Python 3 (ipykernel)",
   "language": "python",
   "name": "python3"
  },
  "language_info": {
   "codemirror_mode": {
    "name": "ipython",
    "version": 3
   },
   "file_extension": ".py",
   "mimetype": "text/x-python",
   "name": "python",
   "nbconvert_exporter": "python",
   "pygments_lexer": "ipython3",
   "version": "3.11.3"
  }
 },
 "nbformat": 4,
 "nbformat_minor": 5
}
