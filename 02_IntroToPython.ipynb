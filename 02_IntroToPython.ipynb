{
 "cells": [
  {
   "cell_type": "markdown",
   "id": "b1de0f01-bc20-447a-9977-d74c9b05c2e0",
   "metadata": {},
   "source": [
    "# Intro to Python: Part 2\n",
    "> #### May 30, 2023\n",
    "> #### Author: Ryan Seaman"
   ]
  },
  {
   "cell_type": "markdown",
   "id": "1eb5d7c1-8686-4204-b312-5d4e77f3a5bb",
   "metadata": {},
   "source": [
    "#### In part 2, you will learn how to make some visualization plots with a sample dataset."
   ]
  },
  {
   "cell_type": "markdown",
   "id": "3ec4fe7e-06e9-413e-b377-8fc2b43dbf0a",
   "metadata": {},
   "source": [
    "### 1. Load in the necessary packages.\n",
    "\n",
    "> This is the equivalent to `library(packageName)` in R\n",
    "> \n",
    "> Note that in order for this to work, the packages need to be installed onto the computer. The packages you will be using today have already been installed for you, but if there are other packages that you would like to use, you can use the following steps to install them.\n",
    "> 1. Click the blue plus button in the top left of the window.\n",
    "> 2. Select `terminal` in the \"other\" section. \n",
    "> 3. From here type the following command `pip install packageName` and press enter. "
   ]
  },
  {
   "cell_type": "code",
   "execution_count": null,
   "id": "97359e64-135d-4798-a8ea-99d8d2d60ad7",
   "metadata": {},
   "outputs": [],
   "source": [
    "import pandas as pd\n",
    "import numpy as np\n",
    "import matplotlib.pyplot as plt\n",
    "import seaborn as sns\n",
    "from statannotations.Annotator import Annotator"
   ]
  },
  {
   "cell_type": "markdown",
   "id": "46259f38-9a7c-4ba3-89a0-4abf9656eb65",
   "metadata": {},
   "source": [
    "### 2. Load in the data and Inspect\n",
    "> Here, we can use the pandas (pd for short) command `read_csv` to read in our data and set it to the variable `df`. "
   ]
  },
  {
   "cell_type": "code",
   "execution_count": null,
   "id": "06e66274-263b-4ef2-8df0-54e50c635441",
   "metadata": {},
   "outputs": [],
   "source": [
    "df = pd.read_csv(\"./data/sample_data.csv\")"
   ]
  },
  {
   "cell_type": "markdown",
   "id": "b5e1b792-20a3-439b-9cc2-b4aa288e9a83",
   "metadata": {},
   "source": [
    "> Now the data is in a dataframe. This is a 2D table where each column can be of a different data type. You can take a look at the types of the columns with the following command: "
   ]
  },
  {
   "cell_type": "code",
   "execution_count": null,
   "id": "644b8b19-5b43-4b9b-b446-9e7ad8e54d28",
   "metadata": {},
   "outputs": [],
   "source": [
    "df.dtypes"
   ]
  },
  {
   "cell_type": "markdown",
   "id": "31142405-7caf-4ed0-9e13-ec1e11da3806",
   "metadata": {},
   "source": [
    "> To get a preview of the dataframe in a variety of different options:\n",
    ">\n",
    "> `df`: This gives the first and last 5 rows.\n",
    "> \n",
    "> `df.head()`: This gives a preview of the first 5 rows. You can specify a different number of rows as a parameter. For example df.head(10) will give 10 rows. \n",
    ">\n",
    "> `df.tail()`: This gives a preview of the last 5 rows. You can specify a different number of rows as a parameter. For example df.tail(10) will give 10 rows. \n",
    ">\n",
    "> `df[22:28]`: This gives a range of rows between the two numbers separated by a colon. Note that if you leave one of them blank, (i.e., `df[:8]`), it will include all of the rows until 8."
   ]
  },
  {
   "cell_type": "code",
   "execution_count": null,
   "id": "e62713f7-2ed5-4d08-a194-635b0ccf350f",
   "metadata": {},
   "outputs": [],
   "source": [
    "# Try one here\n"
   ]
  },
  {
   "cell_type": "markdown",
   "id": "a82e0dcd-09f7-4ac0-ad9d-0a816a5b4882",
   "metadata": {},
   "source": [
    "> Additionally, you can inspect a specific column by putting the column name inside of the square brackets. (i.e., `df[\"strain\"]`). Note that the column name needs to be in quotes."
   ]
  },
  {
   "cell_type": "code",
   "execution_count": null,
   "id": "7ea30d07-077a-4e7c-989c-2ae7bb343466",
   "metadata": {},
   "outputs": [],
   "source": [
    "# Try a different column here\n"
   ]
  },
  {
   "cell_type": "markdown",
   "id": "f75b91ec-5cd1-4889-b2dd-f1fd8bb3e6d2",
   "metadata": {},
   "source": [
    "### 3. Plotting\n",
    "\n",
    "**Plot 1:**\n",
    "> Here, we will start with a basic boxplot.\n",
    "> \n",
    "> Note: if there is a function that you do not understand, you can use the following command to learn more. Alternatively, you can google the documentation for that package and learn more about the function that way.\n",
    "> \n",
    "> `help(nickname.function)`"
   ]
  },
  {
   "cell_type": "markdown",
   "id": "56aebabe-a6af-4899-a053-335d00a2f257",
   "metadata": {},
   "source": [
    "> To start, we will define our plot style"
   ]
  },
  {
   "cell_type": "code",
   "execution_count": null,
   "id": "eb4e6649-2014-4afe-84ea-afd1d88a2ada",
   "metadata": {},
   "outputs": [],
   "source": [
    "sns.set_style('darkgrid') # This sets the style of our plot1 object to 'darkgrid'"
   ]
  },
  {
   "cell_type": "code",
   "execution_count": null,
   "id": "36ea6eec-552d-41a9-bae8-af2fb30796a3",
   "metadata": {},
   "outputs": [],
   "source": [
    "plot1 = sns.boxplot(x = 'strain', y='fluor',hue = 'treatment',data=df) # Now we create a boxplot object. \n",
    "plot1.set_title(\"fig.1 Puromycin fluorescence under fed and fasted conditions -- Basic Box\") # With that object, we can make adjustments i.e., a Title\n",
    "plot1 # By typing the name of the plot object on its own line, the plot will be displayed.\n",
    "\n",
    "plt.savefig('./figures/basic_boxplot1.png') # Here we are saving the plot into the figures directory. "
   ]
  },
  {
   "cell_type": "markdown",
   "id": "9c1b8faf-08ea-47bf-843f-c3b0cf6dcc1b",
   "metadata": {},
   "source": [
    "**Plot 2**\n",
    "> Here, with just a few small adjustments, we can change the plot from a boxplot to a violin plot.\n",
    ">\n",
    "> #### Can you identify the change?"
   ]
  },
  {
   "cell_type": "code",
   "execution_count": null,
   "id": "14aa6a36-8925-4317-9531-b554361f51ba",
   "metadata": {},
   "outputs": [],
   "source": [
    "plot2 = sns.violinplot(x = 'strain', y='fluor',hue = 'treatment',data=df)\n",
    "plot2.set_title(\"fig.1 Puromycin fluorescence under fed and fasted conditions -- Violin\")\n",
    "plot2\n",
    "\n",
    "plt.savefig('./figures/basic_violinplot.png')"
   ]
  },
  {
   "cell_type": "markdown",
   "id": "cb0882e1-489d-404a-bb67-cb34cb30c801",
   "metadata": {},
   "source": [
    "**Plot 3**\n",
    "> Here, we have added some additional complexity to the boxplots. Note that we have the capability to plot multiple things on top of each other. "
   ]
  },
  {
   "cell_type": "code",
   "execution_count": null,
   "id": "a7bdb58c-15ff-4f48-9242-7623dd0fb5fd",
   "metadata": {},
   "outputs": [],
   "source": [
    "plot3 = sns.boxplot(x = 'strain', y='fluor',hue = 'treatment',data=df, showfliers = False, palette=\"Set3\",notch = True, showcaps = True)\n",
    "plot3 = sns.swarmplot(x = 'strain', y='fluor',hue = 'treatment',data=df, dodge =True, s=4)\n",
    "handles, labels = plot3.get_legend_handles_labels()\n",
    "plot3 \n",
    "plt.legend(handles[0:2], labels[0:2])\n",
    "plt.title(\"fig.1 Puromycin fluorescence under fed and fasted conditions\")\n",
    "plt.savefig('./figures/boxplotScatter.png')"
   ]
  },
  {
   "cell_type": "markdown",
   "id": "72738e46-0561-4457-91ab-82aa779a7b1a",
   "metadata": {},
   "source": [
    "**Plot 4**\n",
    "> Finally, we can also add additional statistical tests between different groups. \n",
    ">"
   ]
  },
  {
   "cell_type": "code",
   "execution_count": null,
   "id": "d5b0602f-bbbc-44da-8a95-6337d811ce61",
   "metadata": {},
   "outputs": [],
   "source": [
    "plot4 = sns.boxplot(x = 'strain', y='fluor',hue = 'treatment',data=df, notch = True, showcaps = True)\n",
    "pairs = [\n",
    "    [(\"N2\",\"fed\"),(\"N2\",\"fasted\")], \n",
    "    [(\"MUT1\",\"fed\"),(\"MUT1\",\"fasted\")], \n",
    "    [(\"MUT2\",\"fed\"),(\"MUT2\",\"fasted\")],\n",
    "    \n",
    "    [(\"N2\",\"fed\"),(\"MUT1\",\"fed\")], \n",
    "    [(\"N2\",\"fed\"),(\"MUT2\",\"fed\")], \n",
    "    [(\"MUT1\",\"fed\"),(\"MUT2\",\"fed\")],\n",
    "\n",
    "    [(\"N2\",\"fasted\"),(\"MUT1\",\"fasted\")], \n",
    "    [(\"N2\",\"fasted\"),(\"MUT2\",\"fasted\")], \n",
    "    [(\"MUT1\",\"fasted\"),(\"MUT2\",\"fasted\")]\n",
    "]\n",
    "\n",
    "\n",
    "annotator = Annotator(plot4, data=df, x='strain', y='fluor', hue = 'treatment',pairs = pairs)\n",
    "annotator.configure(test='t-test_ind', text_format='star', loc='inside', comparisons_correction=\"bonferroni\")\n",
    "annotator.apply_and_annotate()\n",
    "\n",
    "\n",
    "plt.title(\"fig.1 Puromycin fluorescence under fed and fasted conditions\")\n",
    "plt.savefig('./figures/stat_boxplot.png')"
   ]
  },
  {
   "cell_type": "markdown",
   "id": "8b8fd5c9-3bcc-4b3a-8ef5-70a748ff45ef",
   "metadata": {},
   "source": [
    "### At this point, you have the foundational knowledge to create plots for your own project using Python. \n",
    "\n",
    "#### Below are some more helpful resources for data science using python:\n",
    "> Python Data Science Handbook: https://jakevdp.github.io/PythonDataScienceHandbook/index.html\n",
    ">\n",
    "> Intro to Numpy: https://numpy.org/doc/1.25/user/absolute_beginners.html\n",
    ">\n",
    "> Intro to Pandas: https://pandas.pydata.org/docs/user_guide/10min.html\n",
    ">\n",
    "> Seaborn Documentation: https://seaborn.pydata.org/api.html\n",
    ">\n",
    "> StatAnnotations Documentation: https://statannotations.readthedocs.io/en/latest/modules.html\n",
    "\n",
    "\n",
    "## And remember, Google is your friend. Use it!"
   ]
  },
  {
   "cell_type": "code",
   "execution_count": null,
   "id": "ae8486ee-af59-47a4-97c6-c0f884adca3a",
   "metadata": {},
   "outputs": [],
   "source": []
  }
 ],
 "metadata": {
  "kernelspec": {
   "display_name": "Python 3 (ipykernel)",
   "language": "python",
   "name": "python3"
  },
  "language_info": {
   "codemirror_mode": {
    "name": "ipython",
    "version": 3
   },
   "file_extension": ".py",
   "mimetype": "text/x-python",
   "name": "python",
   "nbconvert_exporter": "python",
   "pygments_lexer": "ipython3",
   "version": "3.11.3"
  }
 },
 "nbformat": 4,
 "nbformat_minor": 5
}
